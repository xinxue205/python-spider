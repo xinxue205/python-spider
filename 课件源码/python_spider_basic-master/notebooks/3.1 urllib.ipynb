{
 "cells": [
  {
   "cell_type": "code",
   "execution_count": 2,
   "metadata": {
    "collapsed": true
   },
   "outputs": [],
   "source": [
    "import urllib\n",
    "import os"
   ]
  },
  {
   "cell_type": "markdown",
   "metadata": {},
   "source": [
    "## urllib.urlopen"
   ]
  },
  {
   "cell_type": "code",
   "execution_count": 3,
   "metadata": {
    "collapsed": false
   },
   "outputs": [],
   "source": [
    "s = urllib.urlopen('http://blog.kamidox.com')"
   ]
  },
  {
   "cell_type": "code",
   "execution_count": 4,
   "metadata": {
    "collapsed": false
   },
   "outputs": [
    {
     "data": {
      "text/plain": [
       "['__contains__',\n",
       " '__delitem__',\n",
       " '__doc__',\n",
       " '__getitem__',\n",
       " '__init__',\n",
       " '__iter__',\n",
       " '__len__',\n",
       " '__module__',\n",
       " '__setitem__',\n",
       " '__str__',\n",
       " 'addcontinue',\n",
       " 'addheader',\n",
       " 'dict',\n",
       " 'encodingheader',\n",
       " 'fp',\n",
       " 'get',\n",
       " 'getaddr',\n",
       " 'getaddrlist',\n",
       " 'getallmatchingheaders',\n",
       " 'getdate',\n",
       " 'getdate_tz',\n",
       " 'getencoding',\n",
       " 'getfirstmatchingheader',\n",
       " 'getheader',\n",
       " 'getheaders',\n",
       " 'getmaintype',\n",
       " 'getparam',\n",
       " 'getparamnames',\n",
       " 'getplist',\n",
       " 'getrawheader',\n",
       " 'getsubtype',\n",
       " 'gettype',\n",
       " 'has_key',\n",
       " 'headers',\n",
       " 'iscomment',\n",
       " 'isheader',\n",
       " 'islast',\n",
       " 'items',\n",
       " 'keys',\n",
       " 'maintype',\n",
       " 'parseplist',\n",
       " 'parsetype',\n",
       " 'plist',\n",
       " 'plisttext',\n",
       " 'readheaders',\n",
       " 'rewindbody',\n",
       " 'seekable',\n",
       " 'setdefault',\n",
       " 'startofbody',\n",
       " 'startofheaders',\n",
       " 'status',\n",
       " 'subtype',\n",
       " 'type',\n",
       " 'typeheader',\n",
       " 'unixfrom',\n",
       " 'values']"
      ]
     },
     "execution_count": 4,
     "metadata": {},
     "output_type": "execute_result"
    }
   ],
   "source": [
    "msg = s.info()\n",
    "dir(msg)"
   ]
  },
  {
   "cell_type": "code",
   "execution_count": 5,
   "metadata": {
    "collapsed": false
   },
   "outputs": [
    {
     "data": {
      "text/plain": [
       "['text/html; charset=utf-8']"
      ]
     },
     "execution_count": 5,
     "metadata": {},
     "output_type": "execute_result"
    }
   ],
   "source": [
    "msg.getheaders('Content-Type')"
   ]
  },
  {
   "cell_type": "code",
   "execution_count": 6,
   "metadata": {
    "collapsed": false
   },
   "outputs": [
    {
     "data": {
      "text/plain": [
       "['Server: GitHub.com\\r\\n',\n",
       " 'Content-Type: text/html; charset=utf-8\\r\\n',\n",
       " 'Last-Modified: Sat, 12 Dec 2015 13:43:41 GMT\\r\\n',\n",
       " 'Access-Control-Allow-Origin: *\\r\\n',\n",
       " 'Expires: Sat, 12 Dec 2015 15:24:26 GMT\\r\\n',\n",
       " 'Cache-Control: max-age=600\\r\\n',\n",
       " 'X-GitHub-Request-Id: 67F5E018:448F:9572499:566C39D2\\r\\n',\n",
       " 'Content-Length: 15340\\r\\n',\n",
       " 'Accept-Ranges: bytes\\r\\n',\n",
       " 'Date: Sat, 12 Dec 2015 15:14:26 GMT\\r\\n',\n",
       " 'Via: 1.1 varnish\\r\\n',\n",
       " 'Age: 0\\r\\n',\n",
       " 'Connection: close\\r\\n',\n",
       " 'X-Served-By: cache-itm7427-ITM\\r\\n',\n",
       " 'X-Cache: MISS\\r\\n',\n",
       " 'X-Cache-Hits: 0\\r\\n',\n",
       " 'X-Timer: S1449933266.541880,VS0,VE198\\r\\n',\n",
       " 'Vary: Accept-Encoding\\r\\n',\n",
       " 'X-Fastly-Request-ID: f50231f3e741ca477de4e417c1967c6f6f61ab93\\r\\n']"
      ]
     },
     "execution_count": 6,
     "metadata": {},
     "output_type": "execute_result"
    }
   ],
   "source": [
    "msg.headers"
   ]
  },
  {
   "cell_type": "code",
   "execution_count": 7,
   "metadata": {
    "collapsed": false
   },
   "outputs": [
    {
     "data": {
      "text/plain": [
       "'text/html'"
      ]
     },
     "execution_count": 7,
     "metadata": {},
     "output_type": "execute_result"
    }
   ],
   "source": [
    "msg.gettype()"
   ]
  },
  {
   "cell_type": "code",
   "execution_count": 8,
   "metadata": {
    "collapsed": false
   },
   "outputs": [
    {
     "data": {
      "text/plain": [
       "'GitHub.com'"
      ]
     },
     "execution_count": 8,
     "metadata": {},
     "output_type": "execute_result"
    }
   ],
   "source": [
    "msg.getheader('Server')"
   ]
  },
  {
   "cell_type": "markdown",
   "metadata": {},
   "source": [
    "## urllib.urlretrieve"
   ]
  },
  {
   "cell_type": "code",
   "execution_count": 9,
   "metadata": {
    "collapsed": false
   },
   "outputs": [],
   "source": [
    "(filename, msg) = urllib.urlretrieve(\"http://blog.kamidox.com\", 'index.html')"
   ]
  },
  {
   "cell_type": "code",
   "execution_count": 10,
   "metadata": {
    "collapsed": false
   },
   "outputs": [
    {
     "data": {
      "text/plain": [
       "'index.html'"
      ]
     },
     "execution_count": 10,
     "metadata": {},
     "output_type": "execute_result"
    }
   ],
   "source": [
    "filename"
   ]
  },
  {
   "cell_type": "code",
   "execution_count": 11,
   "metadata": {
    "collapsed": false
   },
   "outputs": [
    {
     "data": {
      "text/plain": [
       "[('content-length', '15340'),\n",
       " ('via', '1.1 varnish'),\n",
       " ('x-timer', 'S1449933267.086154,VS0,VE0'),\n",
       " ('x-cache', 'HIT'),\n",
       " ('x-github-request-id', '67F5E018:448F:9572499:566C39D2'),\n",
       " ('accept-ranges', 'bytes'),\n",
       " ('expires', 'Sat, 12 Dec 2015 15:24:26 GMT'),\n",
       " ('vary', 'Accept-Encoding'),\n",
       " ('server', 'GitHub.com'),\n",
       " ('last-modified', 'Sat, 12 Dec 2015 13:43:41 GMT'),\n",
       " ('connection', 'close'),\n",
       " ('x-served-by', 'cache-itm7422-ITM'),\n",
       " ('x-cache-hits', '1'),\n",
       " ('cache-control', 'max-age=600'),\n",
       " ('date', 'Sat, 12 Dec 2015 15:14:27 GMT'),\n",
       " ('access-control-allow-origin', '*'),\n",
       " ('content-type', 'text/html; charset=utf-8'),\n",
       " ('age', '0'),\n",
       " ('x-fastly-request-id', '06005632f70beb6dba23b9c47a90e423397c866e')]"
      ]
     },
     "execution_count": 11,
     "metadata": {},
     "output_type": "execute_result"
    }
   ],
   "source": [
    "msg.items()"
   ]
  },
  {
   "cell_type": "code",
   "execution_count": 12,
   "metadata": {
    "collapsed": false
   },
   "outputs": [
    {
     "name": "stdout",
     "output_type": "stream",
     "text": [
      "0/15340 - 0.00\n",
      "8192/15340 - 53.40\n",
      "16384/15340 - 106.81\n"
     ]
    }
   ],
   "source": [
    "def progress_report(blks, blk_size, total_size):\n",
    "    print('%d/%d - %.02f' %(blks * blk_size, total_size, (float(blks * blk_size) * 100 / total_size)))\n",
    "\n",
    "(filename, msg) = urllib.urlretrieve(\"http://blog.kamidox.com\", 'index.html', reporthook=progress_report)"
   ]
  },
  {
   "cell_type": "markdown",
   "metadata": {},
   "source": [
    "## 工具函数"
   ]
  },
  {
   "cell_type": "code",
   "execution_count": 13,
   "metadata": {
    "collapsed": false
   },
   "outputs": [
    {
     "data": {
      "text/plain": [
       "'a=100&c=text&name=%E4%B8%AD%E6%96%87'"
      ]
     },
     "execution_count": 13,
     "metadata": {},
     "output_type": "execute_result"
    }
   ],
   "source": [
    "query = {'a': 100, 'name': '中文', 'c': 'text'}\n",
    "urllib.urlencode(query)"
   ]
  },
  {
   "cell_type": "code",
   "execution_count": 14,
   "metadata": {
    "collapsed": false
   },
   "outputs": [
    {
     "data": {
      "text/plain": [
       "ParseResult(scheme='https', netloc='www.baidu.com', path='/s', params='', query='wd=url%20%E7%BC%96%E7%A0%81%E8%A7%84%E5%88%99&rsv_spt=1&rsv_iqid=0x928cf1380000a436&issp=1&f=8&rsv_bp=0&rsv_idx=2&ie=utf-8&tn=baiduhome_pg&rsv_enter=1&rsv_sug3=16&rsv_sug1=15&rsv_t=1699JwFmhB8a5kfErU33lHHt8KRbsMzqMwqlJ00%2F9fusUM%2Bmx3gc8GLs5In0kVh7s3zU&rsv_sug2=0&inputT=5565&rsv_sug4=6174', fragment='')"
      ]
     },
     "execution_count": 14,
     "metadata": {},
     "output_type": "execute_result"
    }
   ],
   "source": [
    "import urlparse\n",
    "\n",
    "# 百度搜索 URL\n",
    "qs = 'https://www.baidu.com/s?wd=url%20%E7%BC%96%E7%A0%81%E8%A7%84%E5%88%99&rsv_spt=1&rsv_iqid=0x928cf1380000a436&issp=1&f=8&rsv_bp=0&rsv_idx=2&ie=utf-8&tn=baiduhome_pg&rsv_enter=1&rsv_sug3=16&rsv_sug1=15&rsv_t=1699JwFmhB8a5kfErU33lHHt8KRbsMzqMwqlJ00%2F9fusUM%2Bmx3gc8GLs5In0kVh7s3zU&rsv_sug2=0&inputT=5565&rsv_sug4=6174'\n",
    "pr = urlparse.urlparse(qs)\n",
    "pr"
   ]
  },
  {
   "cell_type": "code",
   "execution_count": 15,
   "metadata": {
    "collapsed": false
   },
   "outputs": [
    {
     "data": {
      "text/plain": [
       "{'f': ['8'],\n",
       " 'ie': ['utf-8'],\n",
       " 'inputT': ['5565'],\n",
       " 'issp': ['1'],\n",
       " 'rsv_bp': ['0'],\n",
       " 'rsv_enter': ['1'],\n",
       " 'rsv_idx': ['2'],\n",
       " 'rsv_iqid': ['0x928cf1380000a436'],\n",
       " 'rsv_spt': ['1'],\n",
       " 'rsv_sug1': ['15'],\n",
       " 'rsv_sug2': ['0'],\n",
       " 'rsv_sug3': ['16'],\n",
       " 'rsv_sug4': ['6174'],\n",
       " 'rsv_t': ['1699JwFmhB8a5kfErU33lHHt8KRbsMzqMwqlJ00/9fusUM+mx3gc8GLs5In0kVh7s3zU'],\n",
       " 'tn': ['baiduhome_pg'],\n",
       " 'wd': ['url \\xe7\\xbc\\x96\\xe7\\xa0\\x81\\xe8\\xa7\\x84\\xe5\\x88\\x99']}"
      ]
     },
     "execution_count": 15,
     "metadata": {},
     "output_type": "execute_result"
    }
   ],
   "source": [
    "urlparse.parse_qs(pr.query)"
   ]
  },
  {
   "cell_type": "markdown",
   "metadata": {},
   "source": [
    "## urllib.FancyURLopener"
   ]
  },
  {
   "cell_type": "code",
   "execution_count": 25,
   "metadata": {
    "collapsed": false
   },
   "outputs": [
    {
     "name": "stdout",
     "output_type": "stream",
     "text": [
      "404 Not Found\n"
     ]
    }
   ],
   "source": [
    "class MyURLOpener(urllib.FancyURLopener):\n",
    "    def http_error_default(self, url, fp, errcode, errmsg, headers):\n",
    "        print errcode, errmsg\n",
    "\n",
    "opener = MyURLOpener()\n",
    "opener.open('http://blog.kamidox.com/ddd')\n",
    "# opener.retrieve('http://blog.kamidox.com/ddd')"
   ]
  },
  {
   "cell_type": "markdown",
   "metadata": {},
   "source": [
    "## 从雅虎财经获取股票数据"
   ]
  },
  {
   "cell_type": "code",
   "execution_count": 27,
   "metadata": {
    "collapsed": false
   },
   "outputs": [],
   "source": [
    "## 下载所有的股票日交易数据\n",
    "stock_list = ['300001.sz', '300002.sz']\n",
    "url = 'http://table.finance.yahoo.com/table.csv?s='\n",
    "for s in stock_list:\n",
    "    urllib.urlretrieve(url + s, s + '.csv')"
   ]
  },
  {
   "cell_type": "code",
   "execution_count": 28,
   "metadata": {
    "collapsed": false
   },
   "outputs": [
    {
     "data": {
      "text/plain": [
       "('300001.sz.20151101_20151130.csv',\n",
       " <httplib.HTTPMessage instance at 0x10c466638>)"
      ]
     },
     "execution_count": 28,
     "metadata": {},
     "output_type": "execute_result"
    }
   ],
   "source": [
    "## 下载指定日期的股票数据\n",
    "query = {'a': 10, 'b': 1, 'c': 2015, 'd': 10, 'e': 30, 'f': 2015, 's': '300001.sz'}\n",
    "url = 'http://table.finance.yahoo.com/table.csv?'\n",
    "urllib.urlretrieve(url + urllib.urlencode(query), '300001.sz.20151101_20151130.csv')"
   ]
  }
 ],
 "metadata": {
  "kernelspec": {
   "display_name": "Python 2",
   "language": "python",
   "name": "python2"
  },
  "language_info": {
   "codemirror_mode": {
    "name": "ipython",
    "version": 2
   },
   "file_extension": ".py",
   "mimetype": "text/x-python",
   "name": "python",
   "nbconvert_exporter": "python",
   "pygments_lexer": "ipython2",
   "version": "2.7.10"
  }
 },
 "nbformat": 4,
 "nbformat_minor": 0
}
