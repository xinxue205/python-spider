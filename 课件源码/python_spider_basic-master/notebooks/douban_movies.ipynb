{
 "cells": [
  {
   "cell_type": "markdown",
   "metadata": {},
   "source": [
    "## 从豆瓣获取正在热播的电影列表"
   ]
  },
  {
   "cell_type": "code",
   "execution_count": 1,
   "metadata": {
    "collapsed": true
   },
   "outputs": [],
   "source": [
    "import urllib"
   ]
  },
  {
   "cell_type": "markdown",
   "metadata": {},
   "source": [
    "### 获取网页数据\n",
    "\n",
    "在这之前，需要在浏览器里对数据进行分析，找出数据的特征"
   ]
  },
  {
   "cell_type": "code",
   "execution_count": 2,
   "metadata": {
    "collapsed": true
   },
   "outputs": [],
   "source": [
    "url = 'http://movie.douban.com/nowplaying/xiamen/'\n",
    "f = urllib.urlopen(url)\n",
    "data = f.read()"
   ]
  },
  {
   "cell_type": "code",
   "execution_count": 27,
   "metadata": {
    "collapsed": false
   },
   "outputs": [
    {
     "data": {
      "text/plain": [
       "'<!DOCTYPE html>\\n<html lang=\"zh-cmn-Hans\" class=\"\">\\n<head>\\n    <meta http-equiv=\"Content-Type\" content=\"text/html; charset=utf-8\">\\n    <meta name=\"renderer\" content=\"webkit\">\\n\\n    <title>\\n    \\xe5\\x8e\\xa6\\xe9\\x97\\xa8 - \\xe5\\x9c\\xa8\\xe7\\xba\\xbf\\xe8\\xb4\\xad\\xe7\\xa5\\xa8&amp;\\xe5\\xbd\\xb1\\xe8\\xae\\xaf\\n</title>\\n    \\n    <meta name=\"baidu-site-verification\" content=\"cZdR4xxR7RxmM4zE\" />\\n    <meta http-equiv=\"Pragma\" content=\"no-cache\">\\n    <meta http-equiv=\"Expires\" content=\"Sun, 6 Mar 2005 01:00:00 GMT\">\\n    \\n    \\n    <meta name=\"keywords\" content=\"\\xe5\\x8e\\xa6\\xe9\\x97\\xa8,\\xe5\\x9c\\xa8\\xe7\\xba\\xbf\\xe8\\xb4\\xad\\xe7\\xa5\\xa8,\\xe7\\xbd\\x91\\xe4\\xb8\\x8a\\xe7\\x94\\xb5\\xe5\\xbd\\xb1\\xe7\\xa5\\xa8\\xe9\\xa2\\x84\\xe8\\xae\\xa2,\\xe4\\xbc\\x98\\xe6\\x83\\xa0\\xe7\\x94\\xb5\\xe5\\xbd\\xb1\\xe7\\xa5\\xa8,\\xe5\\xbd\\xb1\\xe8\\xae\\xaf,\\xe6\\x8e\\x92\\xe7\\x89\\x87,\\xe6\\x94\\xbe\\xe6\\x98\\xa0\\xe6\\x97\\xb6\\xe9\\x97\\xb4,\\xe7\\x94\\xb5\\xe5\\xbd\\xb1\\xe7\\xa5\\xa8\\xe4\\xbb\\xb7\"/>\\n    <meta name=\"description\" content=\"\\xe5\\x8e\\xa6\\xe9\\x97\\xa8\\xe7\\x94\\xb5\\xe5\\xbd\\xb1\\xe9\\x99\\xa2\\xe5\\x9c\\xa8\\xe7\\xba\\xbf\\xe4\\xbc\\x98\\xe6\\x83\\xa0\\xe8\\xb4\\xad\\xe7\\xa5\\xa8\\xe5\\x8f\\x8a\\xe5\\xbd\\xb1\\xe8\\xae\\xaf\\xe6\\x8e\\x92\\xe7\\x89\\x87\\xe6\\x9f\\xa5\\xe8\\xaf\\xa2\"/>\\n\\n    \\n\\n\\n    <link rel=\"apple-touch-icon\" href=\"/pics/movie/apple-touch-icon.png\">\\n    <link href=\"http://img3.douban.com/f/shire/203a8f2cc74ba128779d871a19a5e1bf394a440d/css/douban.new_rating.css\" rel=\"stylesheet\" type=\"text/css\">\\n    <link href=\"http://img3.douban.com/f/shire/d149e012d07540a0085b70c75310d28e3b365e6f/css/separ'"
      ]
     },
     "execution_count": 27,
     "metadata": {},
     "output_type": "execute_result"
    }
   ],
   "source": [
    "data[0:1000]"
   ]
  },
  {
   "cell_type": "markdown",
   "metadata": {},
   "source": [
    "### 使用 HTMLParser 进行解析"
   ]
  },
  {
   "cell_type": "code",
   "execution_count": 28,
   "metadata": {
    "collapsed": false
   },
   "outputs": [],
   "source": [
    "from HTMLParser import HTMLParser\n",
    "\n",
    "class DoubanMovieParser(HTMLParser):\n",
    "    def handle_starttag(self, tag, attrs):\n",
    "        def _attr_value(attrs, key):\n",
    "            for attr in attrs:\n",
    "                if attr[0] == key:\n",
    "                    return attr[1]\n",
    "            return None\n",
    "    \n",
    "        if tag == 'li' and _attr_value(attrs, 'data-title'):\n",
    "            print('%s\\t%s\\t%s\\t%s\\t%s'\n",
    "                 % (_attr_value(attrs, 'data-title'), \n",
    "                    _attr_value(attrs, 'data-score'), \n",
    "                    _attr_value(attrs, 'data-region'),\n",
    "                    _attr_value(attrs, 'data-director'),\n",
    "                    _attr_value(attrs, 'data-actors'),))"
   ]
  },
  {
   "cell_type": "code",
   "execution_count": 29,
   "metadata": {
    "collapsed": false
   },
   "outputs": [
    {
     "name": "stdout",
     "output_type": "stream",
     "text": [
      "我的少女时代\t8.3\t台湾\t陈玉珊\t宋芸桦 / 王大陆 / 李玉玺\n",
      "饥饿游戏3：嘲笑鸟(下)\t6.3\t美国\t弗朗西斯·劳伦斯\t詹妮弗·劳伦斯 / 乔什·哈切森 / 利亚姆·海姆斯沃斯\n",
      "玩命速递：重启之战\t6.3\t法国 中国大陆 比利时\t卡米尔·狄拉玛\t艾德·斯克林 / 雷·史蒂文森 / 洛安·沙巴诺尔\n",
      "007：幽灵党\t6.2\t美国 英国\t萨姆·门德斯\t丹尼尔·克雷格 / 克里斯托弗·沃尔兹 / 蕾雅·赛杜\n",
      "十月初五的月光\t6.0\t中国大陆 香港\t叶念琛\t张智霖 / 陈乔恩 / 佘诗曼\n",
      "一个勺子\t8.0\t中国大陆\t陈建斌\t陈建斌 / 蒋勤勤 / 王学兵\n",
      "陪安东尼度过漫长岁月\t6.6\t中国大陆\t秦小珍\t刘畅 / 白百何 / 唐艺昕\n",
      "灵臆事件\t2.7\t中国大陆\t刘宝贤\t朱雨辰 / 石天琦\n",
      "半夜叫你别回头\t3.2\t中国大陆\t九九\t殷果儿 / 郭云齐 / 倪慕斯\n",
      "史努比：花生大电影\t7.7\t美国\t史蒂夫·马蒂诺\t诺亚·施纳普 / 比尔·莫伦茨 / 哈德利·贝尔·米勒\n",
      "前任2：备胎反击战\t5.6\t中国大陆 香港\t田羽生\t郑恺 / 郭采洁 / 王传君\n",
      "绝命海拔\t7.5\t英国 美国 冰岛\t巴塔萨·科马库\t杰森·克拉科 / 乔什·布洛林 / 约翰·浩克斯\n",
      "一刻十年\tNone\t中国大陆\t戎川\t于朦胧 / 张洋 / 谢彬彬\n",
      "火星救援\tNone\t美国\t雷德利·斯科特\t马特·达蒙 / 杰西卡·查斯坦 / 克里斯汀·韦格\n",
      "消失的凶手\tNone\t中国大陆 香港\t罗志良\t刘青云 / 林家栋 / 李小璐\n",
      "坏蛋必须死\tNone\t中国大陆 香港\t孙皓\t陈柏霖 / 孙艺珍 / 乔振宇\n",
      "摇滚水果\tNone\t中国大陆\t魏健\t王李丹妮 / 陈亦飞 / 常乐\n",
      "不速之客\tNone\t中国大陆 韩国\t林大雄\t黎明 / 耿乐 / 韩彩英\n",
      "诡影迷情\tNone\t中国大陆\t项海明 吉桥\t孙菲菲 / 李泰 / 商蓉\n",
      "火云端\tNone\t中国大陆\t肖立波\t奚美娟 / 陈莹 / 范雨林\n"
     ]
    }
   ],
   "source": [
    "parser = DoubanMovieParser()\n",
    "parser.feed(data)"
   ]
  },
  {
   "cell_type": "markdown",
   "metadata": {},
   "source": [
    "### 过滤数据"
   ]
  },
  {
   "cell_type": "code",
   "execution_count": 30,
   "metadata": {
    "collapsed": false,
    "scrolled": true
   },
   "outputs": [
    {
     "name": "stdout",
     "output_type": "stream",
     "text": [
      "我的少女时代\t8.3\t台湾\t陈玉珊\t宋芸桦 / 王大陆 / 李玉玺\n",
      "饥饿游戏3：嘲笑鸟(下)\t6.3\t美国\t弗朗西斯·劳伦斯\t詹妮弗·劳伦斯 / 乔什·哈切森 / 利亚姆·海姆斯沃斯\n",
      "玩命速递：重启之战\t6.3\t法国 中国大陆 比利时\t卡米尔·狄拉玛\t艾德·斯克林 / 雷·史蒂文森 / 洛安·沙巴诺尔\n",
      "007：幽灵党\t6.2\t美国 英国\t萨姆·门德斯\t丹尼尔·克雷格 / 克里斯托弗·沃尔兹 / 蕾雅·赛杜\n",
      "十月初五的月光\t6.0\t中国大陆 香港\t叶念琛\t张智霖 / 陈乔恩 / 佘诗曼\n",
      "一个勺子\t8.0\t中国大陆\t陈建斌\t陈建斌 / 蒋勤勤 / 王学兵\n",
      "陪安东尼度过漫长岁月\t6.6\t中国大陆\t秦小珍\t刘畅 / 白百何 / 唐艺昕\n",
      "灵臆事件\t2.7\t中国大陆\t刘宝贤\t朱雨辰 / 石天琦\n",
      "半夜叫你别回头\t3.2\t中国大陆\t九九\t殷果儿 / 郭云齐 / 倪慕斯\n",
      "史努比：花生大电影\t7.7\t美国\t史蒂夫·马蒂诺\t诺亚·施纳普 / 比尔·莫伦茨 / 哈德利·贝尔·米勒\n",
      "前任2：备胎反击战\t5.6\t中国大陆 香港\t田羽生\t郑恺 / 郭采洁 / 王传君\n",
      "绝命海拔\t7.5\t英国 美国 冰岛\t巴塔萨·科马库\t杰森·克拉科 / 乔什·布洛林 / 约翰·浩克斯\n"
     ]
    }
   ],
   "source": [
    "from HTMLParser import HTMLParser\n",
    "\n",
    "class DoubanMovieParser(HTMLParser):\n",
    "    def handle_starttag(self, tag, attrs):\n",
    "        def _attr_value(attrs, key):\n",
    "            for attr in attrs:\n",
    "                if attr[0] == key:\n",
    "                    return attr[1]\n",
    "            return None\n",
    "    \n",
    "        if tag == 'li' and _attr_value(attrs, 'data-title') and _attr_value(attrs, 'data-score'):\n",
    "            print('%s\\t%s\\t%s\\t%s\\t%s'\n",
    "                 % (_attr_value(attrs, 'data-title'), \n",
    "                    _attr_value(attrs, 'data-score'), \n",
    "                    _attr_value(attrs, 'data-region'),\n",
    "                    _attr_value(attrs, 'data-director'),\n",
    "                    _attr_value(attrs, 'data-actors'),))\n",
    "            \n",
    "parser = DoubanMovieParser()\n",
    "parser.feed(data)"
   ]
  },
  {
   "cell_type": "code",
   "execution_count": null,
   "metadata": {
    "collapsed": true
   },
   "outputs": [],
   "source": []
  }
 ],
 "metadata": {
  "kernelspec": {
   "display_name": "Python 2",
   "language": "python",
   "name": "python2"
  },
  "language_info": {
   "codemirror_mode": {
    "name": "ipython",
    "version": 2
   },
   "file_extension": ".py",
   "mimetype": "text/x-python",
   "name": "python",
   "nbconvert_exporter": "python",
   "pygments_lexer": "ipython2",
   "version": "2.7.10"
  }
 },
 "nbformat": 4,
 "nbformat_minor": 0
}
