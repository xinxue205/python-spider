{
 "cells": [
  {
   "cell_type": "markdown",
   "metadata": {},
   "source": [
    "## 股票走势分析\n",
    "\n",
    "假设我们需要建立一个模型来分析股票走势，我们所有的股票价格和交易量等数据"
   ]
  },
  {
   "cell_type": "markdown",
   "metadata": {},
   "source": [
    "### 雅虎股票数据接口\n",
    "\n",
    "所有历史数据：http://table.finance.yahoo.com/table.csv?s=股票代码\n",
    "如中国石油 http://table.finance.yahoo.com/table.csv?s=601857.ss\n",
    "\n",
    "上证股票是股票代码后面加上.ss，深证股票是股票代码后面加上.sz"
   ]
  },
  {
   "cell_type": "markdown",
   "metadata": {},
   "source": [
    "## 手动获取数据\n",
    "\n",
    "直接在游览器中打开，保存数据文件"
   ]
  },
  {
   "cell_type": "markdown",
   "metadata": {},
   "source": [
    "## 使用 curl 脚本获取数据"
   ]
  },
  {
   "cell_type": "markdown",
   "metadata": {},
   "source": [
    "## 使用 python 获取数据"
   ]
  },
  {
   "cell_type": "code",
   "execution_count": 1,
   "metadata": {
    "collapsed": true
   },
   "outputs": [],
   "source": [
    "import urllib"
   ]
  },
  {
   "cell_type": "code",
   "execution_count": 2,
   "metadata": {
    "collapsed": true
   },
   "outputs": [],
   "source": [
    "url = 'http://table.finance.yahoo.com/table.csv?s=601857.ss'\n",
    "stream = urllib.urlopen(url)\n",
    "data = stream.read()"
   ]
  },
  {
   "cell_type": "code",
   "execution_count": 5,
   "metadata": {
    "collapsed": false
   },
   "outputs": [
    {
     "data": {
      "text/plain": [
       "'ate,Open,High,Low,Close,Volume,Adj Close\\n2015-11-20,9.02,9.03,8.95,8.99,50086900,8.99\\n2015-11-19,9.03,9.05,8.94,9.04,77119000,9.04\\n2015-11-18,9.03,9.17,8.92,9.05,88825200,9.05\\n2015-11-17,9.00,9.14,8.96,9.04,84135700,9.04\\n2015-11-16,8.85,8.99,8.82,8.98,52982400,8.98\\n2015-11-13,9.04,9.10,8.93,8.94,65213800,8.94\\n2015-11-12,9.21,9.21,9.04,9.11,70945800,9.11\\n2015-11-11,9.22,9.33,9.13,9.20,86488900,9.20\\n2015-11-10,9.18,9.34,9.08,9.26,125169000,9.26\\n2015-11-09,9.06,9.46,9.06,9.24,157276000,9.24\\n2015-11-06,8.94,9.16,8.85,9.10,142950700,9.10\\n2015-11-05,8.70,9.21,8.66,8.98,199671700,8.98\\n2015-11-04,8.48,8.75,8.48,8.74,82773400,8.74\\n2015-11-03,8.53,8.56,8.43,8.47,37982300,8.47\\n2015-11-02,8.66,8.73,8.52,8.53,72050900,8.53\\n2015-10-30,8.77,8.92,8.66,8.75,69901400,8.75\\n2015-10-29,8.81,8.88,8.78,8.82,55365800,8.82\\n2015-10-28,8.77,8.93,8.75,8.79,83441600,8.79\\n2015-10-27,8.84,8.85,8.68,8.81,64998300,8.81\\n2015-10-26,8.87,9.01,8.83,8.89,96119100,8.89\\n2015-10-23,8.80,8.85,8.76,8.83,75521600,8.83\\n2015-10-22,8.72,8.84,8.72,8.82,84'"
      ]
     },
     "execution_count": 5,
     "metadata": {},
     "output_type": "execute_result"
    }
   ],
   "source": [
    "\n",
    "data[1:1024]"
   ]
  },
  {
   "cell_type": "code",
   "execution_count": 7,
   "metadata": {
    "collapsed": false
   },
   "outputs": [
    {
     "data": {
      "text/plain": [
       "['600000.ss',\n",
       " '600001.ss',\n",
       " '600002.ss',\n",
       " '600003.ss',\n",
       " '600004.ss',\n",
       " '600005.ss',\n",
       " '600006.ss',\n",
       " '600007.ss',\n",
       " '600008.ss',\n",
       " '600009.ss']"
      ]
     },
     "execution_count": 7,
     "metadata": {},
     "output_type": "execute_result"
    }
   ],
   "source": [
    "def _stock_ids(start, count, postfix):\n",
    "    stock_list = []\n",
    "    for i in range(count):\n",
    "        sid = '%d.%s' % (start + i, postfix)\n",
    "        stock_list.append(sid)\n",
    "    return stock_list\n",
    "\n",
    "_stock_ids(600000, 10, 'ss')"
   ]
  },
  {
   "cell_type": "code",
   "execution_count": 19,
   "metadata": {
    "collapsed": false
   },
   "outputs": [
    {
     "name": "stdout",
     "output_type": "stream",
     "text": [
      "[Errno 17] File exists: 'stocks'\n",
      "downloading http://table.finance.yahoo.com/table.csv?s=600000.ss\n",
      "downloading http://table.finance.yahoo.com/table.csv?s=600001.ss\n",
      "downloading http://table.finance.yahoo.com/table.csv?s=600002.ss\n",
      "downloading http://table.finance.yahoo.com/table.csv?s=600003.ss\n",
      "downloading http://table.finance.yahoo.com/table.csv?s=600004.ss\n",
      "downloading http://table.finance.yahoo.com/table.csv?s=600005.ss\n",
      "downloading http://table.finance.yahoo.com/table.csv?s=600006.ss\n",
      "downloading http://table.finance.yahoo.com/table.csv?s=600007.ss\n",
      "downloading http://table.finance.yahoo.com/table.csv?s=600008.ss\n",
      "downloading http://table.finance.yahoo.com/table.csv?s=600009.ss\n"
     ]
    },
    {
     "data": {
      "text/plain": [
       "['stocks/600000.csv',\n",
       " 'stocks/600001.csv',\n",
       " 'stocks/600002.csv',\n",
       " 'stocks/600003.csv',\n",
       " 'stocks/600004.csv',\n",
       " 'stocks/600005.csv',\n",
       " 'stocks/600006.csv',\n",
       " 'stocks/600007.csv',\n",
       " 'stocks/600008.csv',\n",
       " 'stocks/600009.csv']"
      ]
     },
     "execution_count": 19,
     "metadata": {},
     "output_type": "execute_result"
    }
   ],
   "source": [
    "import os\n",
    "\n",
    "def _retrieve_data(stock_id):\n",
    "    url = 'http://table.finance.yahoo.com/table.csv?s=' + stock_id\n",
    "    fname = stock_id.split('.')[0] + '.csv'\n",
    "    fullname = os.path.join('stocks', fname)\n",
    "    print('downloading %s' % url)\n",
    "    urllib.urlretrieve(url, fullname)\n",
    "    return fullname\n",
    "\n",
    "try:\n",
    "    os.mkdir('stocks')\n",
    "except Exception, e:\n",
    "    print(e)\n",
    "stock_list = _stock_ids(600000, 10, 'ss')\n",
    "[ _retrieve_data(s) for s in stock_list]"
   ]
  },
  {
   "cell_type": "code",
   "execution_count": 14,
   "metadata": {
    "collapsed": true
   },
   "outputs": [],
   "source": []
  }
 ],
 "metadata": {
  "kernelspec": {
   "display_name": "Python 2",
   "language": "python",
   "name": "python2"
  },
  "language_info": {
   "codemirror_mode": {
    "name": "ipython",
    "version": 2
   },
   "file_extension": ".py",
   "mimetype": "text/x-python",
   "name": "python",
   "nbconvert_exporter": "python",
   "pygments_lexer": "ipython2",
   "version": "2.7.10"
  }
 },
 "nbformat": 4,
 "nbformat_minor": 0
}
